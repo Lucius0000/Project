{
 "cells": [
  {
   "cell_type": "code",
   "execution_count": 1,
   "id": "d6ed6aa0-b83b-4f36-9998-5f792bdcc94b",
   "metadata": {},
   "outputs": [
    {
     "ename": "ModuleNotFoundError",
     "evalue": "No module named 'smbus'",
     "output_type": "error",
     "traceback": [
      "\u001b[1;31m---------------------------------------------------------------------------\u001b[0m",
      "\u001b[1;31mModuleNotFoundError\u001b[0m                       Traceback (most recent call last)",
      "Cell \u001b[1;32mIn[1], line 1\u001b[0m\n\u001b[1;32m----> 1\u001b[0m \u001b[38;5;28;01mimport\u001b[39;00m \u001b[38;5;21;01msmbus\u001b[39;00m\n\u001b[0;32m      2\u001b[0m \u001b[38;5;28;01mimport\u001b[39;00m \u001b[38;5;21;01mmath\u001b[39;00m\n\u001b[0;32m      3\u001b[0m \u001b[38;5;28;01mimport\u001b[39;00m \u001b[38;5;21;01mtime\u001b[39;00m\n",
      "\u001b[1;31mModuleNotFoundError\u001b[0m: No module named 'smbus'"
     ]
    }
   ],
   "source": [
    "import smbus\n",
    "import math\n",
    "import time"
   ]
  },
  {
   "cell_type": "code",
   "execution_count": null,
   "id": "762e4f3a-718b-4358-8be9-af490ec8d2af",
   "metadata": {},
   "outputs": [],
   "source": [
    "# I2C 地址和寄存器地址\n",
    "HMC5883L_ADDRESS = 0x1E\n",
    "MPU6050_ADDRESS = 0x68"
   ]
  },
  {
   "cell_type": "code",
   "execution_count": 4,
   "id": "d9c98a4e-c080-49c7-b5bc-e8978812c5a8",
   "metadata": {},
   "outputs": [],
   "source": [
    "# HMC5883L寄存器地址\n",
    "HMC5883L_CONFIG_A = 0x00\n",
    "HMC5883L_CONFIG_B = 0x01\n",
    "HMC5883L_MODE = 0x02\n",
    "HMC5883L_DATA_X_MSB = 0x03\n",
    "HMC5883L_DATA_Z_MSB = 0x05\n",
    "HMC5883L_DATA_Y_MSB = 0x07"
   ]
  },
  {
   "cell_type": "code",
   "execution_count": null,
   "id": "5a5c9475-527e-45f6-bcfd-ff257b70ede0",
   "metadata": {},
   "outputs": [],
   "source": [
    "# MPU6050寄存器地址\n",
    "MPU6050_PWR_MGMT_1 = 0x6B\n",
    "MPU6050_ACCEL_XOUT_H = 0x3B\n",
    "MPU6050_GYRO_XOUT_H = 0x43"
   ]
  },
  {
   "cell_type": "code",
   "execution_count": null,
   "id": "722b0200-fa11-4ef0-99ec-3018df23b17d",
   "metadata": {},
   "outputs": [],
   "source": [
    "# 初始化 I2C 总线\n",
    "bus = smbus.SMBus(1)"
   ]
  },
  {
   "cell_type": "code",
   "execution_count": null,
   "id": "92f70a00-310f-4112-99da-58324dcf9850",
   "metadata": {},
   "outputs": [],
   "source": [
    "# 初始化 HMC5883L\n",
    "def initialize_hmc5883l():\n",
    "    bus.write_byte_data(HMC5883L_ADDRESS, HMC5883L_CONFIG_A, 0x70)  \n",
    "    bus.write_byte_data(HMC5883L_ADDRESS, HMC5883L_CONFIG_B, 0x20)  \n",
    "    bus.write_byte_data(HMC5883L_ADDRESS, HMC5883L_MODE, 0x00) "
   ]
  },
  {
   "cell_type": "code",
   "execution_count": null,
   "id": "46f7f999-3d39-4c8f-8af8-3e5ff8fb0ebc",
   "metadata": {},
   "outputs": [],
   "source": [
    "# 读取 HMC5883L 数据\n",
    "def read_magnetometer():\n",
    "    x = read_word(HMC5883L_DATA_X_MSB)\n",
    "    z = read_word(HMC5883L_DATA_Z_MSB)\n",
    "    y = read_word(HMC5883L_DATA_Y_MSB)\n",
    "    return x, y, z"
   ]
  },
  {
   "cell_type": "code",
   "execution_count": null,
   "id": "ee522660-882b-4afe-b920-2ffe7dc230af",
   "metadata": {},
   "outputs": [],
   "source": [
    "# 读取字节数据\n",
    "def read_word(register):\n",
    "    high = bus.read_byte_data(HMC5883L_ADDRESS, register)\n",
    "    low = bus.read_byte_data(HMC5883L_ADDRESS, register + 1)\n",
    "    val = (high << 8) | low\n",
    "    if val > 32767:\n",
    "        val -= 65536\n",
    "    return val"
   ]
  },
  {
   "cell_type": "code",
   "execution_count": null,
   "id": "f6c0fff8-aac5-45ea-a2f5-7796c8d0039d",
   "metadata": {},
   "outputs": [],
   "source": [
    "# 初始化 MPU6050\n",
    "def initialize_mpu6050():\n",
    "    bus.write_byte_data(MPU6050_ADDRESS, MPU6050_PWR_MGMT_1, 0x00)  "
   ]
  },
  {
   "cell_type": "code",
   "execution_count": null,
   "id": "8f079c68-7e1c-43d3-8ef1-49a7ea9d4381",
   "metadata": {},
   "outputs": [],
   "source": [
    "# 读取 MPU6050 数据\n",
    "def read_accel_gyro():\n",
    "    ax = read_word_mpu(MPU6050_ACCEL_XOUT_H)\n",
    "    ay = read_word_mpu(MPU6050_ACCEL_XOUT_H + 2)\n",
    "    az = read_word_mpu(MPU6050_ACCEL_XOUT_H + 4)\n",
    "    gx = read_word_mpu(MPU6050_GYRO_XOUT_H)\n",
    "    gy = read_word_mpu(MPU6050_GYRO_XOUT_H + 2)\n",
    "    gz = read_word_mpu(MPU6050_GYRO_XOUT_H + 4)\n",
    "    return ax, ay, az, gx, gy, gz\n"
   ]
  },
  {
   "cell_type": "code",
   "execution_count": null,
   "id": "af86f79f-e7f0-47ff-931f-d13c0ab79ea8",
   "metadata": {},
   "outputs": [],
   "source": [
    "# 读取 MPU6050 字节数据\n",
    "def read_word_mpu(register):\n",
    "    high = bus.read_byte_data(MPU6050_ADDRESS, register)\n",
    "    low = bus.read_byte_data(MPU6050_ADDRESS, register + 1)\n",
    "    val = (high << 8) | low\n",
    "    if val > 32767:\n",
    "        val -= 65536\n",
    "    return val"
   ]
  },
  {
   "cell_type": "code",
   "execution_count": null,
   "id": "498240c8-d278-47c0-a8cc-1daf25512f71",
   "metadata": {},
   "outputs": [],
   "source": [
    "offset = -40.0 "
   ]
  },
  {
   "cell_type": "code",
   "execution_count": null,
   "id": "b9663602-95c9-40ba-b7a5-a7de3b302619",
   "metadata": {},
   "outputs": [],
   "source": [
    "# 计算方向角\n",
    "def calculate_heading(x, y):\n",
    "    heading_radians = math.atan2(y, x)\n",
    "    heading_degrees = math.degrees(heading_radians)\n",
    "    if heading_degrees < 0:\n",
    "        heading_degrees += 360\n",
    "    return heading_degrees"
   ]
  },
  {
   "cell_type": "code",
   "execution_count": null,
   "id": "9fcc993c-a746-47b1-8747-9e7556a9cb76",
   "metadata": {},
   "outputs": [],
   "source": [
    "if __name__ == \"__main__\":\n",
    "    initialize_hmc5883l()\n",
    "    initialize_mpu6050()\n",
    "    \n",
    "    try:\n",
    "        while True:\n",
    "            x_mag, y_mag, z_mag = read_magnetometer()\n",
    "            \n",
    "            ax, ay, az, gx, gy, gz = read_accel_gyro()\n",
    "            \n",
    "            heading = calculate_heading(x_mag, y_mag)\n",
    "            \n",
    "            print(f\"Magnetic Heading: {heading:.2f}°\")\n",
    "            \n",
    "            print(f\"Accelerometer (X, Y, Z): ({ax}, {ay}, {az})\")\n",
    "            print(f\"Gyroscope (X, Y, Z): ({gx}, {gy}, {gz})\")\n",
    "            \n",
    "            time.sleep(1)\n",
    "    except KeyboardInterrupt:\n",
    "        print(\"Program terminated\")"
   ]
  }
 ],
 "metadata": {
  "kernelspec": {
   "display_name": "Python 3 (ipykernel)",
   "language": "python",
   "name": "python3"
  },
  "language_info": {
   "codemirror_mode": {
    "name": "ipython",
    "version": 3
   },
   "file_extension": ".py",
   "mimetype": "text/x-python",
   "name": "python",
   "nbconvert_exporter": "python",
   "pygments_lexer": "ipython3",
   "version": "3.12.4"
  }
 },
 "nbformat": 4,
 "nbformat_minor": 5
}
